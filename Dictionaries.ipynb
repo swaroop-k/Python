{
 "cells": [
  {
   "cell_type": "markdown",
   "id": "aca1e928",
   "metadata": {},
   "source": [
    "- **Dictionaries: key value pairs in python**\n",
    "- **Declared in the {\"key\" : \"value\"}**\n",
    "- **Values are retrived wiht the help of keys**\n",
    "- **Declared in {} brackets.**"
   ]
  },
  {
   "cell_type": "markdown",
   "id": "034ae5ab",
   "metadata": {},
   "source": [
    "### Declaring "
   ]
  },
  {
   "cell_type": "code",
   "execution_count": null,
   "id": "eb352deb",
   "metadata": {},
   "outputs": [],
   "source": [
    "#declaring dictionary\n",
    "capital_city = {1: \"Kathmandu\", 2: \"Rome\", \"England\": \"London\",\"India\":\"New Delhi\", \"Maharashtra\":\"Mumbai\"}"
   ]
  },
  {
   "cell_type": "markdown",
   "id": "3a7f7591",
   "metadata": {},
   "source": [
    "### Printing"
   ]
  },
  {
   "cell_type": "code",
   "execution_count": null,
   "id": "f1133476",
   "metadata": {
    "scrolled": true
   },
   "outputs": [],
   "source": [
    "#printing dictionary\n",
    "print(capital_city)\n",
    "\n",
    "\n",
    "#printing line by line using for loops and dict.items()\n",
    "print(\"\\n----Using FOR loop----\")\n",
    "for key,value in capital_city.items():\n",
    "    print(key,\":\",value)\n",
    "    \n",
    "#using json.dumps which serialize the items in objects\n",
    "import json\n",
    "\n",
    "print(\"\\n----Using JSON dumps:----\")\n",
    "new_dict=json.dumps(capital_city, indent=2)\n",
    "print(new_dict)"
   ]
  },
  {
   "cell_type": "markdown",
   "id": "a3698d6c",
   "metadata": {},
   "source": [
    "### Dictionary Methods/Functions"
   ]
  },
  {
   "cell_type": "code",
   "execution_count": null,
   "id": "b7c6938b",
   "metadata": {},
   "outputs": [],
   "source": [
    "#adding new element to the dict\n",
    "#need to give the key and value \n",
    "\n",
    "capital_city[\"Japan\"] = \"Tokyo\"\n",
    "capital_city[3]=\"Paris\"             #this does not mean at 2 position, 3 is the key\n",
    "\n",
    "print(capital_city)\n"
   ]
  },
  {
   "cell_type": "code",
   "execution_count": null,
   "id": "bd862b96",
   "metadata": {},
   "outputs": [],
   "source": [
    "\n",
    "# .items return the key value pair as tuples in the list\n",
    "print(capital_city.items())"
   ]
  },
  {
   "cell_type": "code",
   "execution_count": null,
   "id": "8ec36647",
   "metadata": {},
   "outputs": [],
   "source": [
    "\n",
    "# fromkeys() returns a dictionary with the specified keys and specified values\n",
    "\n",
    "print(capital_city.fromkeys((1,2,3),(4,5)))"
   ]
  },
  {
   "cell_type": "code",
   "execution_count": null,
   "id": "eea3cfb3",
   "metadata": {},
   "outputs": [],
   "source": [
    "# .get() function is used to get value using the key\n",
    "\n",
    "capital_city.get(3)"
   ]
  },
  {
   "cell_type": "code",
   "execution_count": null,
   "id": "7262ed0a",
   "metadata": {},
   "outputs": [],
   "source": [
    "# .keys method is used to get keys from the dictionary\n",
    "capital_city.keys()\n",
    "\n",
    "# similarly .values() is used to get only values from dictionary\n",
    "capital_city.values()"
   ]
  },
  {
   "cell_type": "code",
   "execution_count": null,
   "id": "03f105d4",
   "metadata": {},
   "outputs": [],
   "source": [
    "# .update() to update the dictionary\n",
    "# if the key mentiooned is already present then value will be updated for that key\n",
    "# else the pair will be added to the dictionary\n",
    "\n",
    "capital_city.update({1:\"Neymar\"})\n",
    "capital_city.update({4:\"Neymar\"})\n",
    "\n",
    "print(capital_city)"
   ]
  },
  {
   "cell_type": "code",
   "execution_count": null,
   "id": "466ef6da",
   "metadata": {},
   "outputs": [],
   "source": [
    "# popping items from dictionary\n",
    "\n",
    "# Removes the element with the specified key\n",
    "capital_city.pop(2)\n",
    "print(capital_city)\n",
    "\n",
    "# Removes the last inserted item from the dictionary\n",
    "capital_city.popitem()\n",
    "print(capital_city)"
   ]
  },
  {
   "cell_type": "code",
   "execution_count": null,
   "id": "4b1cc7dc",
   "metadata": {},
   "outputs": [],
   "source": [
    "# .setdefault() Returns the value of the specified key. If the key does not exist: insert the key, with the specified value\n",
    "x = capital_city.setdefault()\n",
    "print(x)"
   ]
  },
  {
   "cell_type": "code",
   "execution_count": null,
   "id": "5e8dc81a",
   "metadata": {},
   "outputs": [],
   "source": []
  },
  {
   "cell_type": "code",
   "execution_count": null,
   "id": "663bfd85",
   "metadata": {},
   "outputs": [],
   "source": []
  },
  {
   "cell_type": "code",
   "execution_count": null,
   "id": "8b21714a",
   "metadata": {},
   "outputs": [],
   "source": []
  },
  {
   "cell_type": "code",
   "execution_count": null,
   "id": "0513f9bc",
   "metadata": {},
   "outputs": [],
   "source": []
  },
  {
   "cell_type": "code",
   "execution_count": null,
   "id": "6a8a4b6a",
   "metadata": {},
   "outputs": [],
   "source": []
  },
  {
   "cell_type": "code",
   "execution_count": null,
   "id": "c6b4f3ea",
   "metadata": {},
   "outputs": [],
   "source": []
  },
  {
   "cell_type": "code",
   "execution_count": null,
   "id": "30be54e9",
   "metadata": {},
   "outputs": [],
   "source": []
  },
  {
   "cell_type": "code",
   "execution_count": null,
   "id": "f8c7b186",
   "metadata": {},
   "outputs": [],
   "source": []
  },
  {
   "cell_type": "code",
   "execution_count": null,
   "id": "9a3bf38c",
   "metadata": {},
   "outputs": [],
   "source": []
  },
  {
   "cell_type": "code",
   "execution_count": null,
   "id": "4d2cec20",
   "metadata": {},
   "outputs": [],
   "source": []
  },
  {
   "cell_type": "code",
   "execution_count": null,
   "id": "b89b8925",
   "metadata": {},
   "outputs": [],
   "source": []
  },
  {
   "cell_type": "code",
   "execution_count": null,
   "id": "c6f8b5a7",
   "metadata": {},
   "outputs": [],
   "source": []
  },
  {
   "cell_type": "code",
   "execution_count": null,
   "id": "f2519811",
   "metadata": {},
   "outputs": [],
   "source": []
  },
  {
   "cell_type": "code",
   "execution_count": null,
   "id": "0719e15d",
   "metadata": {},
   "outputs": [],
   "source": [
    "for keys,values in capital_city.items():\n",
    "    print(keys)"
   ]
  },
  {
   "cell_type": "code",
   "execution_count": null,
   "id": "673b3d7d",
   "metadata": {},
   "outputs": [],
   "source": [
    "x = capital_city[\"Japan\"]\n",
    "print(x)"
   ]
  },
  {
   "cell_type": "code",
   "execution_count": null,
   "id": "fccc1c1c",
   "metadata": {},
   "outputs": [],
   "source": []
  },
  {
   "cell_type": "code",
   "execution_count": null,
   "id": "5261d8e2",
   "metadata": {},
   "outputs": [],
   "source": []
  },
  {
   "cell_type": "code",
   "execution_count": null,
   "id": "651a56e6",
   "metadata": {},
   "outputs": [],
   "source": [
    "details = {'Swaroop':{'Age':23, 'Post':{'Capgemini':'Programmer'}, 'Salary':37325.89},\n",
    "           'Komal':{'Age':21, 'Post':{'MODS':'Designer'}, 'Salary':54225.29},\n",
    "          'Pratik':{'Age':23, 'Post':{'IBM':'Scientist'}, 'Salary':773235.84},\n",
    "          'Shiv':{'Age':23, 'Post':{'Mind':'Builder'}, 'Salary':2325.27},\n",
    "          'Shrivalli':{'Age':23, 'Post':{'Beauty':'Artiat'}, 'Salary':37325.23}}"
   ]
  },
  {
   "cell_type": "code",
   "execution_count": null,
   "id": "a1aa91e9",
   "metadata": {},
   "outputs": [],
   "source": [
    "print(details)"
   ]
  },
  {
   "cell_type": "code",
   "execution_count": null,
   "id": "7def936d",
   "metadata": {},
   "outputs": [],
   "source": [
    "import json\n",
    "\n",
    "preety = json.dumps(details, indent=3, sort_keys=True)\n",
    "print(preety)"
   ]
  },
  {
   "cell_type": "code",
   "execution_count": null,
   "id": "eb78dfc8",
   "metadata": {},
   "outputs": [],
   "source": [
    "x = details[\"Swaroop\"]\n",
    "print(x)"
   ]
  },
  {
   "cell_type": "code",
   "execution_count": null,
   "id": "1b135be8",
   "metadata": {},
   "outputs": [],
   "source": []
  }
 ],
 "metadata": {
  "kernelspec": {
   "display_name": "Python 3 (ipykernel)",
   "language": "python",
   "name": "python3"
  },
  "language_info": {
   "codemirror_mode": {
    "name": "ipython",
    "version": 3
   },
   "file_extension": ".py",
   "mimetype": "text/x-python",
   "name": "python",
   "nbconvert_exporter": "python",
   "pygments_lexer": "ipython3",
   "version": "3.9.13"
  }
 },
 "nbformat": 4,
 "nbformat_minor": 5
}
