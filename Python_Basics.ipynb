{
 "cells": [
  {
   "cell_type": "raw",
   "id": "c8212971",
   "metadata": {},
   "source": [
    "# Print \"Hello, World!\""
   ]
  },
  {
   "cell_type": "code",
   "execution_count": null,
   "id": "1f580392",
   "metadata": {},
   "outputs": [],
   "source": [
    "print(\"Hello, World!\")"
   ]
  },
  {
   "cell_type": "raw",
   "id": "4ad37d6f",
   "metadata": {},
   "source": [
    "# Printing a Triangle"
   ]
  },
  {
   "cell_type": "code",
   "execution_count": null,
   "id": "b49badd4",
   "metadata": {},
   "outputs": [],
   "source": [
    "print(\"   /|\")\n",
    "print(\"  / |\")\n",
    "print(\" /  |\")\n",
    "print(\"/___|\")"
   ]
  },
  {
   "cell_type": "markdown",
   "id": "53eaeb1a",
   "metadata": {},
   "source": [
    "\n",
    "# Variables and Data Types\n"
   ]
  },
  {
   "cell_type": "raw",
   "id": "8b6ed999",
   "metadata": {},
   "source": [
    "# String - plain text\n",
    "# Number\n",
    "# Boolean - True/False"
   ]
  },
  {
   "cell_type": "code",
   "execution_count": null,
   "id": "b8b13615",
   "metadata": {},
   "outputs": [],
   "source": [
    "#variable_name = value;\n",
    "first_name = \"Swaroop\"\n",
    "\n",
    "#storing age in string \n",
    "age = \"23\"\n",
    "\n",
    "#running this cell will assign the values to the variable and we can print them"
   ]
  },
  {
   "cell_type": "code",
   "execution_count": null,
   "id": "4667fe9d",
   "metadata": {
    "scrolled": true
   },
   "outputs": [],
   "source": [
    "#printing the variable assigned in cell[7]\n",
    "print(\"My name is \" + first_name + \".\")\n",
    "print(\"My age is \" + age + \".\")"
   ]
  },
  {
   "cell_type": "markdown",
   "id": "0a8ba475",
   "metadata": {},
   "source": [
    "\n",
    "# Working with Strings\n"
   ]
  },
  {
   "cell_type": "code",
   "execution_count": null,
   "id": "96768dbd",
   "metadata": {},
   "outputs": [],
   "source": [
    "#creating new line\n",
    "print(\"First Line\\nSecond Line\")\n",
    "\n",
    "#printing quotation\n",
    "print(\"Inseting \\\" Quotation\")\n",
    "\n",
    "#creating string variable\n",
    "phrase = \"This is my string\"\n",
    "print(phrase)\n",
    "\n",
    "#concatanating/adding\n",
    "print(phrase + \", adding something\")\n",
    "\n",
    "##FUNCTIONS ON STRING\n",
    "#using \".\" to access function\n",
    "\n",
    "#lowercase using lower() function\n",
    "print(\"Lowercase String: \" + phrase.lower())\n",
    "\n",
    "#uppercase using upper() function\n",
    "print(\"Uppercase String: \" + phrase.upper())\n",
    "\n",
    "#checking if any case\n",
    "print(phrase.lower().islower())\n",
    "\n",
    "#checking the length of the string\n",
    "print(len(phrase))\n"
   ]
  },
  {
   "cell_type": "code",
   "execution_count": null,
   "id": "00baaa3a",
   "metadata": {},
   "outputs": [],
   "source": [
    "#Strings gets indexed starting with 0 and -1 from backwards\n",
    "print(\"The first character of string: \" + phrase[0])"
   ]
  },
  {
   "cell_type": "code",
   "execution_count": null,
   "id": "c1404013",
   "metadata": {},
   "outputs": [],
   "source": [
    "#locating the index of a particular letter\n",
    "print(phrase.index(\"m\"))"
   ]
  },
  {
   "cell_type": "code",
   "execution_count": null,
   "id": "2b3ab7a8",
   "metadata": {},
   "outputs": [],
   "source": [
    "#replacing Strings\n",
    "print(phrase.replace(\"string\",\"replaced_string\"))"
   ]
  },
  {
   "cell_type": "markdown",
   "id": "deb2ff7b",
   "metadata": {},
   "source": [
    "\n",
    "# Working with Numbers\n"
   ]
  },
  {
   "cell_type": "code",
   "execution_count": null,
   "id": "26825a79",
   "metadata": {},
   "outputs": [],
   "source": [
    "#print a number\n",
    "print(2)\n",
    "print(2.3842)\n",
    "print(-32.352)\n",
    "\n",
    "#arithmetic operators\n",
    "print(2 + 2)\n",
    "print(2 * 2)\n",
    "print(2 / 2)\n",
    "print(2 - 2)\n",
    "print(10 % 3)\n",
    "\n",
    "mynum = 7\n",
    "print(mynum)\n",
    "\n",
    "#converting num to string\n",
    "print(str(mynum) + \" is my fav number\")"
   ]
  },
  {
   "cell_type": "code",
   "execution_count": null,
   "id": "c64d52f6",
   "metadata": {},
   "outputs": [],
   "source": [
    "#absoulute value\n",
    "num = -7\n",
    "print(abs(num))\n",
    "\n",
    "#power of a number, here 7*7\n",
    "print(pow(num, 2))\n",
    "\n",
    "#max function, larger of number\n",
    "print(max(num, 10))\n",
    "\n",
    "#min function\n",
    "print(min(num, 10))\n",
    "\n",
    "#round function\n",
    "print(round(2.42))"
   ]
  },
  {
   "cell_type": "code",
   "execution_count": null,
   "id": "a1f10393",
   "metadata": {},
   "outputs": [],
   "source": [
    "#some other math function needs to include math library of python\n",
    "\n",
    "#importing math library all function(*)\n",
    "from math import *\n",
    "\n",
    "#floor function lower decimal\n",
    "print(floor(3.6))\n",
    "\n",
    "#ceil function\n",
    "print(ceil(3.4))\n",
    "\n",
    "#square root function\n",
    "print(sqrt(7))"
   ]
  },
  {
   "cell_type": "markdown",
   "id": "905c423a",
   "metadata": {},
   "source": [
    "\n",
    "# Getting input from users\n"
   ]
  },
  {
   "cell_type": "code",
   "execution_count": null,
   "id": "f3dc192b",
   "metadata": {},
   "outputs": [],
   "source": [
    "#getting input from users\n",
    "#input keyword\n",
    "\n",
    "#asking name from the user and assigning to variable name\n",
    "name = input(\"Enter your name:\")\n",
    "\n",
    "#printing the name\n",
    "print(\"Hello, \" + name)"
   ]
  },
  {
   "cell_type": "markdown",
   "id": "255855f1",
   "metadata": {},
   "source": [
    "\n",
    "# Building a Calculator\n"
   ]
  },
  {
   "cell_type": "code",
   "execution_count": null,
   "id": "bb60f06e",
   "metadata": {},
   "outputs": [],
   "source": [
    "print(\"Opening Calculator.....\")\n",
    "print(\"Opened Calculator\")\n",
    "\n",
    "#getting input from users, python by default save them as string.\n",
    "#so numbers entered below will be string\n",
    "num1 = input(\"Enter first number\")\n",
    "num2 = input(\"Enter second number\")\n",
    "\n",
    "#performing calculation will need convert into numbers so typecase them\n",
    "#type cast means convert into num using int(), float() or any other digit\n",
    "\n",
    "#aritmetic operator\n",
    "addresult = float(num1) + float(num2)\n",
    "mulresult = float(num1) * float(num2)\n",
    "\n",
    "#printing result\n",
    "print(\"Addition: \" + str(addresult))\n",
    "print(\"Multiplication: \" + str(mulresult))\n"
   ]
  },
  {
   "cell_type": "markdown",
   "id": "f1cf709b",
   "metadata": {},
   "source": [
    "# Creating MadLibs "
   ]
  },
  {
   "cell_type": "code",
   "execution_count": null,
   "id": "c26e1e70",
   "metadata": {},
   "outputs": [],
   "source": [
    "#getting inputs from user\n",
    "\n",
    "color = input(\"Enter a color:\")\n",
    "plural_noun = input(\"Enter a plural_noun\")\n",
    "celebrity = input(\"Enter a celebrity\")\n",
    "\n",
    "print(\"Roses are \" + color)\n",
    "print(plural_noun + \" are blue\")\n",
    "print(\"I love \" + celebrity)"
   ]
  },
  {
   "cell_type": "markdown",
   "id": "a70f5dd0",
   "metadata": {},
   "source": [
    "# Lists"
   ]
  },
  {
   "cell_type": "markdown",
   "id": "bb411756",
   "metadata": {},
   "source": [
    "Structure used to store list of information"
   ]
  },
  {
   "cell_type": "code",
   "execution_count": null,
   "id": "13286f64",
   "metadata": {},
   "outputs": [],
   "source": [
    "#list of friends\n",
    "#square bracket means list\n",
    "friends = [\"Komal\", \"Rohit\", \"Shiv\", \"Pratik\", \"Kajal\"]\n",
    "\n",
    "#not just similar datatypes\n",
    "grocery = [\"rice\", 2, False]\n",
    "\n",
    "#list also start with indexing like [0,1,2,.....]\n",
    "#which also means negative indexing like [....,-3,-2,-1]\n",
    "print(\"First element of friends: \" + friends[0])\n",
    "\n",
    "#selecting portions of list\n",
    "#including opening bracket exluding closing bracket\n",
    "\n",
    "#printing after index 1\n",
    "print(friends[1:])\n",
    "\n",
    "#printing whole list\n",
    "print(friends[:])"
   ]
  },
  {
   "cell_type": "markdown",
   "id": "1a7173fb",
   "metadata": {},
   "source": [
    "# List functions"
   ]
  },
  {
   "cell_type": "code",
   "execution_count": null,
   "id": "393aa4a9",
   "metadata": {},
   "outputs": [],
   "source": [
    "#lists are mutable we can append it \n",
    "\n",
    "#extending appending another list\n",
    "friends.extend(grocery)\n",
    "print(friends)\n",
    "#output: ['Komal', 'Rohit', 'Shiv', 'Pratik', 'Kajal', 'rice', 2, False]\n",
    "\n",
    "#addding shri to the list\n",
    "friends.append(\"Shri\")\n",
    "print(friends)\n",
    "\n",
    "#inserting any element\n",
    "friends.insert(1, \"Motlya\")\n",
    "print(friends)\n",
    "\n",
    "#removing any element\n",
    "friends.remove(\"Motlya\")\n",
    "print(friends)\n",
    "\n",
    "#removing last element\n",
    "friends.pop()\n",
    "print(friends)\n",
    "\n",
    "#index of any element\n",
    "print(friends.index(\"Rohit\"))\n",
    "\n",
    "#count of the items in the list\n",
    "print(friends.count(\"Komal\"))\n",
    "\n",
    "#sorting function\n",
    "friends.sort()\n",
    "print(friends)\n",
    "\n",
    "#reverse the list\n",
    "grocery.reverse()\n",
    "print(grocery)\n",
    "\n",
    "friends2 = friends.copy()\n",
    "printe(friends2)\n",
    "\n",
    "#reset the list\n",
    "friends.clear()"
   ]
  },
  {
   "cell_type": "markdown",
   "id": "3e9795f0",
   "metadata": {},
   "source": [
    "# Tuples "
   ]
  },
  {
   "cell_type": "markdown",
   "id": "567a536b",
   "metadata": {},
   "source": [
    "#tuples are immutable\n",
    "#they are not extedndable\n",
    "#they are indexed starting with 0\n",
    "#just a round bracket\n",
    "#used for data which never needs to be changed, modified"
   ]
  },
  {
   "cell_type": "code",
   "execution_count": null,
   "id": "13b1b35b",
   "metadata": {},
   "outputs": [],
   "source": [
    "#coordinates is a tuple, where u cant modify anything\n",
    "coordinates = (1,2,3,4,5,6)\n",
    "print(coordinates)"
   ]
  },
  {
   "cell_type": "markdown",
   "id": "8db59cf4",
   "metadata": {},
   "source": [
    "# Functions"
   ]
  },
  {
   "cell_type": "markdown",
   "id": "72c2daa4",
   "metadata": {},
   "source": [
    "Collection of codes which performs specific task."
   ]
  },
  {
   "cell_type": "code",
   "execution_count": null,
   "id": "f1482fdd",
   "metadata": {},
   "outputs": [],
   "source": [
    "# def is the keyword to create function along with name\n",
    "#indentation is the key in python, code need to be indented\n",
    "\n",
    "#created a function with simple print statement\n",
    "def function_name():\n",
    "    print(\"This is a function\")\n",
    "    \n",
    "#as the function is created we actually need to call it to run it\n",
    "#calling function\n",
    "function_name();"
   ]
  },
  {
   "cell_type": "raw",
   "id": "9219a971",
   "metadata": {},
   "source": [
    "Arguments/Parameters are piece of information given to function"
   ]
  },
  {
   "cell_type": "code",
   "execution_count": null,
   "id": "cf981e22",
   "metadata": {},
   "outputs": [],
   "source": [
    "def say_hi(name):\n",
    "    print(\"Hello \" + name)\n",
    "    \n",
    "say_hi(\"Swaroop\")\n",
    "say_hi(\"Komal\")"
   ]
  },
  {
   "cell_type": "code",
   "execution_count": null,
   "id": "6d51ed42",
   "metadata": {},
   "outputs": [],
   "source": [
    "def say_hi(name, age):\n",
    "    print(\"Hello \" + name + \", \" + str(age))\n",
    "\n",
    "say_hi(\"Swaroop\", 23)"
   ]
  },
  {
   "cell_type": "markdown",
   "id": "c8d73795",
   "metadata": {},
   "source": [
    "# Return keyword"
   ]
  },
  {
   "cell_type": "code",
   "execution_count": null,
   "id": "1bbc502d",
   "metadata": {},
   "outputs": [],
   "source": [
    "#return statement will give back the value to function call\n",
    "#used to get information back from the function\n",
    "#return also means breaking the function\n",
    "\n",
    "def cube(number):\n",
    "    return pow(number, 3);\n",
    "\n",
    "print(cube(3))\n",
    "print(cube(5))"
   ]
  },
  {
   "cell_type": "markdown",
   "id": "352138f1",
   "metadata": {},
   "source": [
    "# If Statements"
   ]
  },
  {
   "cell_type": "markdown",
   "id": "4a4a5a68",
   "metadata": {},
   "source": [
    "Decisive statements, if this else other"
   ]
  },
  {
   "cell_type": "code",
   "execution_count": null,
   "id": "2908ca9e",
   "metadata": {},
   "outputs": [],
   "source": [
    "#boolean variable\n",
    "is_male = True\n",
    "\n",
    "#if keyword to write if and else for else\n",
    "#it will check condition basis of True and False\n",
    "#if True then executed and if false no texecuted.\n",
    "#you can use AND and OR in the statement\n",
    "\n",
    "if is_male:\n",
    "    print(\"Yes, you are male\")\n",
    "else:\n",
    "    print(\"No, you aren't a male\")"
   ]
  },
  {
   "cell_type": "code",
   "execution_count": null,
   "id": "02809e5d",
   "metadata": {},
   "outputs": [],
   "source": [
    "#elif is the short form of else if for another alternative\n",
    "is_male = False\n",
    "is_tall = True\n",
    "\n",
    "if is_male and is_tall:\n",
    "    print(\"You are a tall male\")\n",
    "#we can use NOT keyword to see if the boolean is false\n",
    "elif is_male and not(is_tall):\n",
    "    print(\"You are a short male\")\n",
    "elif not(is_male) and is_tall:\n",
    "    print(\"You are not a male but tall\")\n",
    "else:\n",
    "    print(\"You are not a male\")"
   ]
  },
  {
   "cell_type": "code",
   "execution_count": null,
   "id": "2476a6c5",
   "metadata": {},
   "outputs": [],
   "source": [
    "def max_num(num1, num2, num3):\n",
    "    if num1 >= num2 and num1 >= num3:\n",
    "        return num1\n",
    "    elif num2 >= num3 and num1 >= num1:\n",
    "        return num2\n",
    "    else:\n",
    "        return num3\n",
    "\n",
    "print(max_num(194,25,235))"
   ]
  },
  {
   "cell_type": "markdown",
   "id": "d12f768d",
   "metadata": {},
   "source": [
    "# Building advanced calculator"
   ]
  },
  {
   "cell_type": "code",
   "execution_count": null,
   "id": "1523bfc9",
   "metadata": {},
   "outputs": [],
   "source": [
    "#get input from user\n",
    "first = float(input(\"Enter first number: \"))\n",
    "second = float(input(\"Enter second number: \"))\n",
    "op = input(\"Enter operator: \")\n",
    "\n",
    "if op==\"+\":\n",
    "    print(first + second)\n",
    "elif op==\"-\":\n",
    "    print(first - second)\n",
    "elif op==\"/\":\n",
    "    print(first/second)\n",
    "elif op==\"*\":\n",
    "    print(first * second)\n",
    "else:\n",
    "    print(\"Invalid operator\")"
   ]
  },
  {
   "cell_type": "markdown",
   "id": "6225c33c",
   "metadata": {},
   "source": [
    "# Dictionaries"
   ]
  },
  {
   "cell_type": "markdown",
   "id": "907f5105",
   "metadata": {},
   "source": [
    "Special structure allowing storage of information in key value pair"
   ]
  },
  {
   "cell_type": "code",
   "execution_count": null,
   "id": "38bc56f4",
   "metadata": {},
   "outputs": [],
   "source": [
    "#dictionaries are created in open and closed curly braces\n",
    "#they are in pairs where key and its value is to be given\n",
    "#keys need to be unique, no duplicacy\n",
    "\n",
    "#creating a dictionary\n",
    "month = {\"Jan\":\"January\", \"Feb\":\"February\", \"Mar\":\"March\", \"Apr\":\"April\",\n",
    "        \"May\":\"May\", \"Jun\":\"June\", \"Jul\":\"July\", 8:\"August\", 9:\"November\"}\n",
    "\n",
    "#refer to the key and it will provide the value of that key\n",
    "#key should be given inside square bracket\n",
    "print(month[\"Jan\"])\n",
    "print(month[\"Feb\"])\n",
    "\n",
    "#get function is also applicable for getting values\n",
    "print(month.get(\"Dec\"))\n",
    "print(month.get(\"Apr\"))\n",
    "\n",
    "print(month[8])\n",
    "print(month.get(9))"
   ]
  },
  {
   "cell_type": "markdown",
   "id": "6ea1048d",
   "metadata": {},
   "source": [
    "# While Loops"
   ]
  },
  {
   "cell_type": "code",
   "execution_count": null,
   "id": "2bdae9c1",
   "metadata": {},
   "outputs": [],
   "source": [
    "#while is a keyword for creating while loop\n",
    "#condition is provided for the while loop\n",
    "i = 1\n",
    "while i <= 10:    #while loop with conditon, below this code will be looped.\n",
    "    print(i)      #statements, code\n",
    "    i += 1        #iteration done\n",
    "\n",
    "print(\"Executed while loop\")\n",
    "\n",
    "#it will check the condition first then loop will be executed \n",
    "#after completion of last statement of the loop then it will get back to condition\n"
   ]
  },
  {
   "cell_type": "markdown",
   "id": "4d540a3d",
   "metadata": {},
   "source": [
    "# Building a guessing Game"
   ]
  },
  {
   "cell_type": "code",
   "execution_count": null,
   "id": "a063eef3",
   "metadata": {},
   "outputs": [],
   "source": [
    "#the secret word\n",
    "secret_word = \"girrafe\"\n",
    "guess = \"\"\n",
    "limit = 5\n",
    "guess_count = 0\n",
    "out_of_guesses = False\n",
    "\n",
    "while guess != secret_word:\n",
    "    if guess_count < limit:\n",
    "        guess = input(\"Enter guess: \")\n",
    "        guess_count += 1\n",
    "    else:\n",
    "        out_of_guesses = True\n",
    "\n",
    "if out_of_guesses:\n",
    "    print(\"You are out of guesses\")\n",
    "else:\n",
    "    print(\"You win!!\")"
   ]
  },
  {
   "cell_type": "markdown",
   "id": "e603888f",
   "metadata": {},
   "source": [
    "# For Loops"
   ]
  },
  {
   "cell_type": "code",
   "execution_count": 2,
   "id": "214edab3",
   "metadata": {},
   "outputs": [
    {
     "name": "stdout",
     "output_type": "stream",
     "text": [
      "C\n",
      "a\n",
      "t\n",
      "0\n",
      "1\n",
      "2\n",
      "Swaroop\n",
      "Komal\n",
      "Shiv\n"
     ]
    }
   ],
   "source": [
    "#for keyword for iteration of for loop\n",
    "\n",
    "#for every letter inside the string Swaroop, like S,W,A,R,O,O,P\n",
    "for letter in \"Cat\":\n",
    "    print(letter)\n",
    "    \n",
    "for index in range(3):\n",
    "    print(index)\n",
    "    \n",
    "    \n",
    "friends = [\"Swaroop\", \"Komal\", \"Shiv\"]\n",
    "for friend in friends:\n",
    "    print(friend)"
   ]
  },
  {
   "cell_type": "code",
   "execution_count": null,
   "id": "3558a6bc",
   "metadata": {},
   "outputs": [],
   "source": []
  }
 ],
 "metadata": {
  "kernelspec": {
   "display_name": "Python 3 (ipykernel)",
   "language": "python",
   "name": "python3"
  },
  "language_info": {
   "codemirror_mode": {
    "name": "ipython",
    "version": 3
   },
   "file_extension": ".py",
   "mimetype": "text/x-python",
   "name": "python",
   "nbconvert_exporter": "python",
   "pygments_lexer": "ipython3",
   "version": "3.11.0"
  },
  "vscode": {
   "interpreter": {
    "hash": "ef500ad13a14f1b7e52b748faf3bff2d9fba8909152565c5ad7e6630fb9c364e"
   }
  }
 },
 "nbformat": 4,
 "nbformat_minor": 5
}
