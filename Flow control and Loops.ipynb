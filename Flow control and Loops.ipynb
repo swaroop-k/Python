{
 "cells": [
  {
   "cell_type": "code",
   "execution_count": null,
   "id": "8a9dfe89",
   "metadata": {},
   "outputs": [],
   "source": [
    "movie = input(\"Enter the movie name:\")\n",
    "\n",
    "if movie==\"kantara\":\n",
    "    print('Yes, the movie is', movie)\n",
    "else:\n",
    "    print('No the movie is not Kantara but', movie)"
   ]
  },
  {
   "cell_type": "code",
   "execution_count": null,
   "id": "efe1a060",
   "metadata": {},
   "outputs": [],
   "source": [
    "movie = []\n",
    "\n",
    "n = int(input(\"Enter number of elements : \"))\n",
    "  \n",
    "# iterating till the range\n",
    "for i in range(0, n):\n",
    "    name = input()\n",
    "    movie.append(name)\n",
    "\n",
    "if movie[0]==\"kantara\":\n",
    "    print('Yes, the movie is', movie)\n",
    "else:\n",
    "    print('No the movie is not Kantara but', movie)"
   ]
  },
  {
   "cell_type": "code",
   "execution_count": null,
   "id": "89c8ccaf",
   "metadata": {},
   "outputs": [],
   "source": [
    "q1 = input(\"Do you want to play the game: \")\n",
    "\n",
    "if q1==\"yes\" or q1==\"Yes\":\n",
    "    q2 = input(\"Are you sure:\")\n",
    "    print(\"Do you want to play the game:\",q1)\n",
    "    print(\"Are you sure:\",q2)\n",
    "    print(q1,q2)\n",
    "else:\n",
    "    print(\"no input\")"
   ]
  },
  {
   "cell_type": "code",
   "execution_count": null,
   "id": "8af55fa7",
   "metadata": {},
   "outputs": [],
   "source": [
    "n=int(input())\n",
    "while n>0:\n",
    "    print(n)\n",
    "    n=n-1\n",
    "    if n==5:\n",
    "        print(\"n = 5\")\n",
    "    elif n==3:\n",
    "        continue\n",
    "    elif n==1:\n",
    "        break"
   ]
  },
  {
   "cell_type": "markdown",
   "id": "3dfe583b",
   "metadata": {},
   "source": []
  },
  {
   "cell_type": "code",
   "execution_count": null,
   "id": "5d6378c7",
   "metadata": {},
   "outputs": [],
   "source": []
  },
  {
   "cell_type": "code",
   "execution_count": null,
   "id": "b1be1b39",
   "metadata": {},
   "outputs": [],
   "source": [
    "#printing list\n",
    "print(movies)"
   ]
  },
  {
   "cell_type": "code",
   "execution_count": null,
   "id": "e16e1934",
   "metadata": {},
   "outputs": [],
   "source": [
    "#printing keys\n",
    "print(screen_timing.keys())"
   ]
  },
  {
   "cell_type": "code",
   "execution_count": null,
   "id": "28feb868",
   "metadata": {},
   "outputs": [],
   "source": [
    "#printing screentime\n",
    "print(screen_timing['Kantara'])"
   ]
  },
  {
   "cell_type": "code",
   "execution_count": null,
   "id": "8de84542",
   "metadata": {},
   "outputs": [],
   "source": [
    "#printing screen1 timing for kantara\n",
    "print(screen_timing['kantara']['Screen1'])"
   ]
  },
  {
   "cell_type": "code",
   "execution_count": null,
   "id": "59d1a4d2",
   "metadata": {},
   "outputs": [],
   "source": [
    "dic = {'0': {'text': 'a', 'lang': 'es', 'rating': '4'}, '1': {'text': 'b', 'lang': 'es', 'rating': '3'}, '2': {'text': 'c', 'lang': 'es', 'rating': '1'}, '3': {'text': 'd', 'lang': 'es', 'rating': '2'}, '4': {'text': 'e', 'lang': 'es', 'rating': '5'}}\n",
    "str = input()\n",
    "result = any(str in d.values() for d in dic.values())\n",
    "print(result)"
   ]
  },
  {
   "cell_type": "markdown",
   "id": "50ba4d32",
   "metadata": {},
   "source": [
    "### Movie Ticketing System"
   ]
  },
  {
   "cell_type": "code",
   "execution_count": null,
   "id": "96a14c87",
   "metadata": {},
   "outputs": [],
   "source": [
    "#movie ticketing system\n",
    "import json\n",
    "import random\n",
    "\n",
    "\n",
    "#psuedocode\n",
    "'''\n",
    "1. Listing movies and timing\n",
    "2. Taking inputs from user\n",
    "3. Check if the movie is present or not\n",
    "4. If yes, check for availability of check_timing\n",
    "5. If yes, check for seat availability\n",
    "6. If yes, show cost\n",
    "7. Print the ticket and details\n",
    "'''\n",
    "\n",
    "\n",
    "\n",
    "#lisiting the timing and Movies \n",
    "Movie_check_timing = {\"Haikyu\":{\"Screen1\":\"10:00 am\", \"Screen2\":\"12f:00 pm\"},\n",
    "                 \"Black Clover\":{\"Screen1\":\"1:00 pm\", \"Screen2\":\"2:00 pm\"},\n",
    "                 \"Slayers\":{\"Screen1\":\"3:00 pm\", \"Screen2\":\"4:00 pm\"},\n",
    "                 \"Kantara\":{\"Screen1\":\"5:00 pm\", \"Screen2\":\"6:00 pm\"},\n",
    "                 \"Jujutsu kaisen\":{\"Screen1\":\"3:00 am\", \"Screen2\":\"5:00 am\"}}\n",
    "\n",
    "\n",
    "\n",
    "#welcoming\n",
    "print(\"!!! Welcome to PVR Cinemas !!! \\n  ---Movies Screening---\")\n",
    "\n",
    "\n",
    "\n",
    "#printing movie_names and screen check_timing using json method for clear\n",
    "pretty = json.dumps(Movie_check_timing, indent=3, sort_keys=True)\n",
    "print(pretty)\n",
    "\n",
    "\n",
    "\n",
    "#taking input\n",
    "movie_name = input(\"\\nEnter a movie name: \")\n",
    "max_seats = 100\n",
    "\n",
    "\n",
    "#checking if right movie_name\n",
    "if movie_name in Movie_check_timing.keys():\n",
    "    check_timing = input(\"\\nEnter the timing: \")    \n",
    "    \n",
    "    #checking if movie is screening at the given time\n",
    "    if check_timing == Movie_check_timing[movie_name][\"Screen1\"] or check_check_timing == Movie_check_timing[movie_name][\"Screen2\"]:\n",
    "        print(\"\\nMovie is available, please choose seating arrangement.\")\n",
    "        number_seats = int(input(\"Enter the number of tickets you want: \"))\n",
    "        if number_seats < max_seats:\n",
    "            print(\"\\nSeat is available for the show!!\")\n",
    "            print(\"\\nSeating arrangement: \\n 1: Lower - 80 \\n 2: Middle - 100 \\n 3: Upper -120  \\n 4: Balcony - 150\")\n",
    "            \n",
    "            #taking other necessary inputs\n",
    "            choice = int(input(\"Enter your choosen arrangement: \"))\n",
    "            \n",
    "            #printing Purchase_cost depending on the choice\n",
    "            if choice == 1:\n",
    "                success = True\n",
    "                print(\"Purchase_cost = \", number_seats * 80)\n",
    "            elif choice ==2:\n",
    "                success = True\n",
    "                print(\"Purchase_cost = \", number_seats * 100)\n",
    "            elif choice == 3:\n",
    "                success = True\n",
    "                print(\"Purchase_cost = \", number_seats * 120)\n",
    "            elif choice == 4:\n",
    "                success = True\n",
    "                print(\"Purchase_cost = \", number_seats * 150)\n",
    "            else:\n",
    "                print(\"Purchase_cost = \",0)\n",
    "                \n",
    "        else:\n",
    "              print(\"Invalid choice!!\")\n",
    "                \n",
    "    else:\n",
    "        print(\"\\nSorry, We dont have this movie scheduled at this time.\")\n",
    "        \n",
    "else:\n",
    "    print(\"\\nSorry, this show is not available.\")\n",
    "    \n",
    "\n",
    "#printing Ticket    \n",
    "if success == True:\n",
    "    print(\"\\n ---PVR Cinemas---\\n Enjoy your show!!\\n\\n Ticket No:\",random.randint(100000,900000),\"\\n Movie Name: \",\n",
    "          movie_name,\"\\n Timing: \",check_timing,\"\\n Seat no: \", random.randint(1,100))"
   ]
  },
  {
   "cell_type": "code",
   "execution_count": null,
   "id": "026d90c1",
   "metadata": {},
   "outputs": [],
   "source": []
  }
 ],
 "metadata": {
  "kernelspec": {
   "display_name": "Python 3 (ipykernel)",
   "language": "python",
   "name": "python3"
  },
  "language_info": {
   "codemirror_mode": {
    "name": "ipython",
    "version": 3
   },
   "file_extension": ".py",
   "mimetype": "text/x-python",
   "name": "python",
   "nbconvert_exporter": "python",
   "pygments_lexer": "ipython3",
   "version": "3.9.13"
  }
 },
 "nbformat": 4,
 "nbformat_minor": 5
}
