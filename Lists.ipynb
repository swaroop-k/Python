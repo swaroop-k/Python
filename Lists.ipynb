{
 "cells": [
  {
   "cell_type": "code",
   "execution_count": null,
   "id": "25ded57c",
   "metadata": {},
   "outputs": [],
   "source": [
    "cities = ['Hyd','Mum','Nag','Pune','Goa','Chandrapur','Texas','NY','Katol',1,2,3,4,5,6,7,75,4,3,24,2,3,4,6,72,\"This is list.\"]"
   ]
  },
  {
   "cell_type": "markdown",
   "id": "2e4fe5db",
   "metadata": {},
   "source": [
    "## Printing the list"
   ]
  },
  {
   "cell_type": "code",
   "execution_count": null,
   "id": "d2fb444e",
   "metadata": {},
   "outputs": [],
   "source": [
    "print(cities)\n",
    "\n",
    "#printing only items \n",
    "print(*cities, sep=\" ,\")\n",
    "\n",
    "#using for loops for only items\n",
    "for items in cities:\n",
    "    print(items, end=\" \")      #printing items on a single line with space\n",
    "    \n",
    "#works only for str instances\n",
    "cities2 = cities[:9]\n",
    "print(' '.join(cities2))"
   ]
  },
  {
   "cell_type": "markdown",
   "id": "62a2b220",
   "metadata": {},
   "source": [
    "## Accessing the lists"
   ]
  },
  {
   "cell_type": "code",
   "execution_count": null,
   "id": "d02c08c7",
   "metadata": {},
   "outputs": [],
   "source": [
    "#first element\n",
    "print(cities[0])\n",
    "\n",
    "#last element\n",
    "print(cities[-1])\n",
    "\n",
    "#mid element\n",
    "x = int(len(cities)/2)     #it is considered as float and list will not iterate\n",
    "#print(type(x))\n",
    "print(cities[x])\n",
    "\n",
    "\n"
   ]
  },
  {
   "cell_type": "markdown",
   "id": "11bcc846",
   "metadata": {},
   "source": [
    "## Slicing the list"
   ]
  },
  {
   "cell_type": "code",
   "execution_count": null,
   "id": "23ff7a26",
   "metadata": {},
   "outputs": [],
   "source": [
    "#full list\n",
    "print(cities[:])\n",
    "\n",
    "#list from somewhere to end\n",
    "print(cities[5:])\n",
    "\n",
    "#list from start to somewhere mid\n",
    "print(cities[:9])\n",
    "\n",
    "#list from mid to end\n",
    "print(cities[x:])    #x is already calculated\n",
    "\n",
    "#list from somewhere to somewhere\n",
    "print(cities[7:14])\n",
    "\n",
    "print(cities[-12:-3])"
   ]
  },
  {
   "cell_type": "markdown",
   "id": "f85f1fdf",
   "metadata": {},
   "source": [
    "## List methods"
   ]
  },
  {
   "cell_type": "markdown",
   "id": "fb74f71a",
   "metadata": {},
   "source": [
    "### Appending / Adding"
   ]
  },
  {
   "cell_type": "code",
   "execution_count": null,
   "id": "c6d4cbf5",
   "metadata": {},
   "outputs": [],
   "source": [
    "# .append() means adding new element to the end of list\n",
    "cities.append(\"New Element\")\n",
    "print(cities)\n",
    "\n",
    "cities.append(\"New Element 2\")"
   ]
  },
  {
   "cell_type": "code",
   "execution_count": null,
   "id": "f3c5aa75",
   "metadata": {},
   "outputs": [],
   "source": [
    "# .extend() means adding another list to the existing list\n",
    "state = [\"Maharastra\",\"Goa\",\"Gujarat\"]\n",
    "cities.extend(state)    #adding state list to the cities list\n",
    "print(cities)"
   ]
  },
  {
   "cell_type": "code",
   "execution_count": null,
   "id": "3ba3f58f",
   "metadata": {},
   "outputs": [],
   "source": [
    "# .insert() means inserting items to the existing list\n",
    "\n",
    "# takes two argument, [\"index_position\",\"Element_to_be_added\"]g\n",
    "\n",
    "cities.insert(3,\"New element\")\n",
    "print(cities)"
   ]
  },
  {
   "cell_type": "markdown",
   "id": "112d5eb0",
   "metadata": {},
   "source": [
    "### Deleting from the list"
   ]
  },
  {
   "cell_type": "code",
   "execution_count": null,
   "id": "e0f64f0b",
   "metadata": {},
   "outputs": [],
   "source": [
    "# .remove() means removing a single element from the list\n",
    "cities.remove(\"New Element\")\n",
    "print(cities)\n",
    "\n",
    "cities.remove(75)\n",
    "print(cities)"
   ]
  },
  {
   "cell_type": "code",
   "execution_count": null,
   "id": "92a89f47",
   "metadata": {},
   "outputs": [],
   "source": [
    "# using del() for deleting list elements\n",
    "del cities[7]\n",
    "print(cities)\n",
    "\n",
    "del cities[:3]\n",
    "print(cities)"
   ]
  },
  {
   "cell_type": "code",
   "execution_count": null,
   "id": "996bb641",
   "metadata": {},
   "outputs": [],
   "source": [
    "# .pop() also means removing element \n",
    "cities.pop(2)\n",
    "print(cities)\n",
    "\n",
    "#cities.pop(\"NY\")       only can take integer will show error"
   ]
  },
  {
   "cell_type": "markdown",
   "id": "cd3fd403",
   "metadata": {},
   "source": [
    "### Other methods"
   ]
  },
  {
   "cell_type": "code",
   "execution_count": null,
   "id": "d4e4d57b",
   "metadata": {},
   "outputs": [],
   "source": [
    "# reversing the list using \n",
    "\n",
    "cities.reverse()\n",
    "print(cities)"
   ]
  },
  {
   "cell_type": "code",
   "execution_count": null,
   "id": "9c11706e",
   "metadata": {},
   "outputs": [],
   "source": [
    "# sorting the list using .sort()\n",
    "\n",
    "cities2.sort()\n",
    "print(cities2)"
   ]
  },
  {
   "cell_type": "code",
   "execution_count": null,
   "id": "3b20c0b1",
   "metadata": {},
   "outputs": [],
   "source": [
    "# counting the number of occurence of element in the list using .count() \n",
    "\n",
    "count = cities.count(2)\n",
    "print(count)"
   ]
  },
  {
   "cell_type": "code",
   "execution_count": null,
   "id": "4aa05cc4",
   "metadata": {},
   "outputs": [],
   "source": [
    "# returns the index of specific element using .index()\n",
    "\n",
    "index = cities.index('Katol')\n",
    "print(index)"
   ]
  },
  {
   "cell_type": "code",
   "execution_count": null,
   "id": "aaab7998",
   "metadata": {},
   "outputs": [],
   "source": [
    "# copying the list in different list using .copy()\n",
    "\n",
    "new_cities = cities.copy()\n",
    "print(new_cities)"
   ]
  },
  {
   "cell_type": "code",
   "execution_count": null,
   "id": "36c617ea",
   "metadata": {},
   "outputs": [],
   "source": [
    "#clearing the list using .clear()\n",
    "\n",
    "cities.clear()\n",
    "print(cities)\n",
    "print(new_cities)"
   ]
  },
  {
   "cell_type": "markdown",
   "id": "d7177270",
   "metadata": {},
   "source": [
    "### Iterations of Lists\n"
   ]
  },
  {
   "cell_type": "code",
   "execution_count": null,
   "id": "46df9719",
   "metadata": {},
   "outputs": [],
   "source": [
    "list = [1,2,3,4,5,'a','b','c','d','e','f',2.0,3.0,True]\n",
    "\n",
    "#iterating every element in the list\n",
    "\n",
    "for every_item in list:\n",
    "    print(every_item)\n",
    "    \n",
    "#checking if the 'a' element is present in the list\n",
    "print('a' in list)\n",
    "print(6 in list)"
   ]
  },
  {
   "cell_type": "markdown",
   "id": "9ea48727",
   "metadata": {},
   "source": [
    "### Creating Lists (Comprehensions)"
   ]
  },
  {
   "cell_type": "code",
   "execution_count": null,
   "id": "ae1dbcfc",
   "metadata": {},
   "outputs": [],
   "source": [
    "#initializing square in lists\n",
    "\n",
    "squares = [number*number for number in range(1,11)]\n",
    "print(squares)"
   ]
  },
  {
   "cell_type": "code",
   "execution_count": null,
   "id": "ec731848",
   "metadata": {},
   "outputs": [],
   "source": [
    "#in simple terms the above code means\n",
    "\n",
    "#initializing\n",
    "numbers = []\n",
    "\n",
    "#adding to the lists\n",
    "for x in range(1,11):\n",
    "    numbers.append(x * x)\n",
    "    \n",
    "    \n",
    "print(numbers)"
   ]
  },
  {
   "cell_type": "markdown",
   "id": "39eabf12",
   "metadata": {},
   "source": [
    "### Lists of Lists"
   ]
  },
  {
   "cell_type": "code",
   "execution_count": null,
   "id": "7e1f4425",
   "metadata": {},
   "outputs": [],
   "source": [
    "nested = [[1, 2, 3, 4, 5], ['Red',['Yes','No','Sure'], 'Pink', 'Yellow', 'Green'], [\"Swaroop\",\"Komal\",\"Shiv\",\"Shrivalli\",\"Pratik\"]]\n",
    "\n",
    "#printing whole nested lists\n",
    "print(nested)\n",
    "\n",
    "#print the lists of the nested lists\n",
    "for lists in nested:\n",
    "    print(lists)"
   ]
  },
  {
   "cell_type": "code",
   "execution_count": null,
   "id": "465ce755",
   "metadata": {},
   "outputs": [],
   "source": [
    "#print the items in the lists of the lists\n",
    "for lists in nested:\n",
    "    for items in lists:\n",
    "        print(items)"
   ]
  },
  {
   "cell_type": "code",
   "execution_count": null,
   "id": "43499272",
   "metadata": {},
   "outputs": [],
   "source": [
    "for items in nested[1][1]:\n",
    "    print(items)"
   ]
  },
  {
   "cell_type": "code",
   "execution_count": null,
   "id": "6f212ffa",
   "metadata": {},
   "outputs": [],
   "source": [
    "str = input(\"Enter:\")\n",
    "\n",
    "for list in nested:\n",
    "    for items in list:\n",
    "        if items == str:\n",
    "            c = items.index(str)\n",
    "    l = list.index(items) \n",
    "    print(str,\"is present at index \",c,\"and \",l)\n",
    "else:\n",
    "    print(\"No item\")"
   ]
  },
  {
   "cell_type": "code",
   "execution_count": null,
   "id": "c4e93bcf",
   "metadata": {},
   "outputs": [],
   "source": [
    "length = len(nested[1])\n",
    "print(length)"
   ]
  }
 ],
 "metadata": {
  "kernelspec": {
   "display_name": "Python 3 (ipykernel)",
   "language": "python",
   "name": "python3"
  },
  "language_info": {
   "codemirror_mode": {
    "name": "ipython",
    "version": 3
   },
   "file_extension": ".py",
   "mimetype": "text/x-python",
   "name": "python",
   "nbconvert_exporter": "python",
   "pygments_lexer": "ipython3",
   "version": "3.9.13"
  }
 },
 "nbformat": 4,
 "nbformat_minor": 5
}
