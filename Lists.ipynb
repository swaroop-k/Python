{
 "cells": [
  {
   "cell_type": "code",
   "execution_count": null,
   "id": "34da1f2a",
   "metadata": {},
   "outputs": [],
   "source": [
    "cities = ['Hyd','Mum','Nag','Pune','Goa','Chandrapur','Texas','NY','Katol',1,2,3,4,5,6,7,75,4,3,24,2,3,4,6,72,\"This is list.\"]"
   ]
  },
  {
   "cell_type": "markdown",
   "id": "b5f4d14a",
   "metadata": {},
   "source": [
    "## Printing the list"
   ]
  },
  {
   "cell_type": "code",
   "execution_count": null,
   "id": "77efb5cb",
   "metadata": {},
   "outputs": [],
   "source": [
    "print(cities)\n",
    "\n",
    "#printing only items \n",
    "print(*cities, sep=\" ,\")\n",
    "\n",
    "#using for loops for only items\n",
    "for items in cities:\n",
    "    print(items, end=\" \")\n",
    "    #print(items, end=\"\\n\")      printing items on a new line\n",
    "    \n",
    "#works only for str instances\n",
    "cities2 = cities[:9]\n",
    "print(' '.join(cities2))"
   ]
  },
  {
   "cell_type": "markdown",
   "id": "9b91dcff",
   "metadata": {},
   "source": [
    "## Accessing the lists"
   ]
  },
  {
   "cell_type": "code",
   "execution_count": null,
   "id": "487c61b0",
   "metadata": {},
   "outputs": [],
   "source": [
    "#first element\n",
    "print(cities[0])\n",
    "\n",
    "#last element\n",
    "print(cities[-1])\n",
    "\n",
    "#mid element\n",
    "x = int(len(cities)/2)     #it is considered as float and list will not iterate\n",
    "#print(type(x))\n",
    "print(cities[x])\n",
    "\n",
    "\n"
   ]
  },
  {
   "cell_type": "markdown",
   "id": "744bbe5a",
   "metadata": {},
   "source": [
    "## Slicing the list"
   ]
  },
  {
   "cell_type": "code",
   "execution_count": null,
   "id": "fbbacb7a",
   "metadata": {},
   "outputs": [],
   "source": [
    "#full list\n",
    "print(cities[:])\n",
    "\n",
    "#list from somewhere to end\n",
    "print(cities[5:])\n",
    "\n",
    "#list from start to somewhere mid\n",
    "print(cities[:9])\n",
    "\n",
    "#list from mid to end\n",
    "print(cities[x:])    #x is already calculated\n",
    "\n",
    "#list from somewhere to somewhere\n",
    "print(cities[7:14])\n",
    "\n",
    "print(cities[-12:-3])"
   ]
  },
  {
   "cell_type": "markdown",
   "id": "02972d59",
   "metadata": {},
   "source": [
    "## List methods"
   ]
  },
  {
   "cell_type": "markdown",
   "id": "de3d416a",
   "metadata": {},
   "source": [
    "### Appending / Adding"
   ]
  },
  {
   "cell_type": "code",
   "execution_count": null,
   "id": "a42611c4",
   "metadata": {},
   "outputs": [],
   "source": [
    "# .append() means adding new element to the end of list\n",
    "cities.append(\"New Element\")\n",
    "print(cities)\n",
    "\n",
    "cities.append(\"New Element 2\")"
   ]
  },
  {
   "cell_type": "code",
   "execution_count": null,
   "id": "2b9bb665",
   "metadata": {},
   "outputs": [],
   "source": [
    "# .extend() means adding another list to the existing list\n",
    "state = [\"Maharastra\",\"Goa\",\"Gujarat\"]\n",
    "cities.extend(state)    #adding state list to the cities list\n",
    "print(cities)"
   ]
  },
  {
   "cell_type": "code",
   "execution_count": null,
   "id": "5dba7a09",
   "metadata": {},
   "outputs": [],
   "source": [
    "# .insert() means inserting items to the existing list\n",
    "\n",
    "# takes two argument, [\"index_position\",\"Element_to_be_added\"]g\n",
    "\n",
    "cities.insert(3,\"New element\")\n",
    "print(cities)"
   ]
  },
  {
   "cell_type": "markdown",
   "id": "4f8024cd",
   "metadata": {},
   "source": [
    "### Deleting from the list"
   ]
  },
  {
   "cell_type": "code",
   "execution_count": null,
   "id": "5a999937",
   "metadata": {},
   "outputs": [],
   "source": [
    "# .remove() means removing a single element from the list\n",
    "cities.remove(\"New Element\")\n",
    "print(cities)\n",
    "\n",
    "cities.remove(75)\n",
    "print(cities)"
   ]
  },
  {
   "cell_type": "code",
   "execution_count": null,
   "id": "7662e44c",
   "metadata": {},
   "outputs": [],
   "source": [
    "# using del() for deleting list elements\n",
    "del cities[7]\n",
    "print(cities)\n",
    "\n",
    "del cities[:3]\n",
    "print(cities)"
   ]
  },
  {
   "cell_type": "code",
   "execution_count": null,
   "id": "c0daa71a",
   "metadata": {},
   "outputs": [],
   "source": [
    "# .pop() also means removing element \n",
    "cities.pop(2)\n",
    "print(cities)\n",
    "\n",
    "#cities.pop(\"NY\")       only can take integer will show error"
   ]
  },
  {
   "cell_type": "markdown",
   "id": "cae6571b",
   "metadata": {},
   "source": [
    "### Other methods"
   ]
  },
  {
   "cell_type": "code",
   "execution_count": null,
   "id": "293890c7",
   "metadata": {},
   "outputs": [],
   "source": [
    "# reversing the list using \n",
    "\n",
    "cities.reverse()\n",
    "print(cities)"
   ]
  },
  {
   "cell_type": "code",
   "execution_count": null,
   "id": "fb9845ed",
   "metadata": {},
   "outputs": [],
   "source": [
    "# sorting the list using .sort()\n",
    "\n",
    "cities2.sort()\n",
    "print(cities2)"
   ]
  },
  {
   "cell_type": "code",
   "execution_count": null,
   "id": "539ecc1d",
   "metadata": {},
   "outputs": [],
   "source": [
    "# counting the number of occurence of element in the list using .count() \n",
    "\n",
    "count = cities.count(2)\n",
    "print(count)"
   ]
  },
  {
   "cell_type": "code",
   "execution_count": null,
   "id": "58a44ea4",
   "metadata": {},
   "outputs": [],
   "source": [
    "# returns the index of specific element using .index()\n",
    "\n",
    "index = cities.index('Katol')\n",
    "print(index)"
   ]
  },
  {
   "cell_type": "code",
   "execution_count": null,
   "id": "c0b872bb",
   "metadata": {},
   "outputs": [],
   "source": [
    "# copying the list in different list using .copy()\n",
    "\n",
    "new_cities = cities.copy()\n",
    "print(new_cities)"
   ]
  },
  {
   "cell_type": "code",
   "execution_count": null,
   "id": "91d26e97",
   "metadata": {},
   "outputs": [],
   "source": [
    "#clearing the list using .clear()\n",
    "\n",
    "cities.clear()\n",
    "print(cities)\n",
    "print(new_cities)"
   ]
  }
 ],
 "metadata": {
  "kernelspec": {
   "display_name": "Python 3 (ipykernel)",
   "language": "python",
   "name": "python3"
  },
  "language_info": {
   "codemirror_mode": {
    "name": "ipython",
    "version": 3
   },
   "file_extension": ".py",
   "mimetype": "text/x-python",
   "name": "python",
   "nbconvert_exporter": "python",
   "pygments_lexer": "ipython3",
   "version": "3.9.13"
  }
 },
 "nbformat": 4,
 "nbformat_minor": 5
}
