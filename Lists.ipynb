{
 "cells": [
  {
   "cell_type": "code",
   "execution_count": 1,
   "id": "0f21d5fe",
   "metadata": {},
   "outputs": [],
   "source": [
    "cities = ['Hyd','Mum','Nag','Pune','Goa','Chandrapur','Texas','NY','Katol',1,2,3,4,5,6,7,75,4,3,24,2,3,4,6,72,\"This is list.\"]"
   ]
  },
  {
   "cell_type": "markdown",
   "id": "8e19f62b",
   "metadata": {},
   "source": [
    "## Printing the list"
   ]
  },
  {
   "cell_type": "code",
   "execution_count": null,
   "id": "58030fa1",
   "metadata": {},
   "outputs": [],
   "source": [
    "print(cities)\n",
    "\n",
    "#printing only items \n",
    "print(*cities, sep=\" ,\")\n",
    "\n",
    "#using for loops for only items\n",
    "for items in cities:\n",
    "    print(items, end=\" \")\n",
    "    #print(items, end=\"\\n\")      printing items on a new line\n",
    "    \n",
    "#works only for str instances\n",
    "cities2 = cities[:9]\n",
    "print(' '.join(cities2))"
   ]
  },
  {
   "cell_type": "markdown",
   "id": "ff996550",
   "metadata": {},
   "source": [
    "## Accessing the lists"
   ]
  },
  {
   "cell_type": "code",
   "execution_count": null,
   "id": "8e03208f",
   "metadata": {},
   "outputs": [],
   "source": [
    "#first element\n",
    "print(cities[0])\n",
    "\n",
    "#last element\n",
    "print(cities[-1])\n",
    "\n",
    "#mid element\n",
    "x = int(len(cities)/2)     #it is considered as float and list will not iterate\n",
    "#print(type(x))\n",
    "print(cities[x])\n",
    "\n",
    "\n"
   ]
  },
  {
   "cell_type": "markdown",
   "id": "5e08b883",
   "metadata": {},
   "source": [
    "## Slicing the list"
   ]
  },
  {
   "cell_type": "code",
   "execution_count": null,
   "id": "d0ec0a97",
   "metadata": {},
   "outputs": [],
   "source": [
    "#full list\n",
    "print(cities[:])\n",
    "\n",
    "#list from somewhere to end\n",
    "print(cities[5:])\n",
    "\n",
    "#list from start to somewhere mid\n",
    "print(cities[:9])\n",
    "\n",
    "#list from mid to end\n",
    "print(cities[x:])    #x is already calculated\n",
    "\n",
    "#list from somewhere to somewhere\n",
    "print(cities[7:14])\n",
    "\n",
    "print(cities[-12:-3])"
   ]
  },
  {
   "cell_type": "markdown",
   "id": "6f344728",
   "metadata": {},
   "source": [
    "## List methods"
   ]
  },
  {
   "cell_type": "markdown",
   "id": "44f2ca43",
   "metadata": {},
   "source": [
    "### Appending / Adding"
   ]
  },
  {
   "cell_type": "code",
   "execution_count": null,
   "id": "6389a187",
   "metadata": {},
   "outputs": [],
   "source": [
    "# .append() means adding new element to the end of list\n",
    "cities.append(\"New Element\")\n",
    "print(cities)\n",
    "\n",
    "cities.append(\"New Element 2\")"
   ]
  },
  {
   "cell_type": "code",
   "execution_count": null,
   "id": "eb165738",
   "metadata": {},
   "outputs": [],
   "source": [
    "# .extend() means adding another list to the existing list\n",
    "state = [\"Maharastra\",\"Goa\",\"Gujarat\"]\n",
    "cities.extend(state)    #adding state list to the cities list\n",
    "print(cities)"
   ]
  },
  {
   "cell_type": "code",
   "execution_count": 6,
   "id": "11b0621c",
   "metadata": {},
   "outputs": [
    {
     "name": "stdout",
     "output_type": "stream",
     "text": [
      "['Hyd', 'Mum', 'Goa', 'New element', 'Chandrapur', 'Texas', 'NY', 'Katol', 1, 2, 3, 4, 5, 6, 7, 75, 4, 3, 24, 2, 3, 4, 6, 72, 'This is list.']\n"
     ]
    }
   ],
   "source": [
    "# .insert() means inserting items to the existing list\n",
    "\n",
    "# takes two argument, [\"index_position\",\"Element_to_be_added\"]g\n",
    "\n",
    "cities.insert(3,\"New element\")\n",
    "print(cities)"
   ]
  },
  {
   "cell_type": "markdown",
   "id": "06a1f412",
   "metadata": {},
   "source": [
    "### Deleting from the list"
   ]
  },
  {
   "cell_type": "code",
   "execution_count": null,
   "id": "1b806a74",
   "metadata": {},
   "outputs": [],
   "source": [
    "# .remove() means removing a single element from the list\n",
    "cities.remove(\"New Element\")\n",
    "print(cities)\n",
    "\n",
    "cities.remove(75)\n",
    "print(cities)"
   ]
  },
  {
   "cell_type": "code",
   "execution_count": null,
   "id": "adf116f5",
   "metadata": {},
   "outputs": [],
   "source": [
    "# using del() for deleting list elements\n",
    "del cities[7]\n",
    "print(cities)\n",
    "\n",
    "del cities[:3]\n",
    "print(cities)"
   ]
  },
  {
   "cell_type": "code",
   "execution_count": 3,
   "id": "50d3aa44",
   "metadata": {},
   "outputs": [
    {
     "name": "stdout",
     "output_type": "stream",
     "text": [
      "['Hyd', 'Mum', 'Goa', 'Chandrapur', 'Texas', 'NY', 'Katol', 1, 2, 3, 4, 5, 6, 7, 75, 4, 3, 24, 2, 3, 4, 6, 72, 'This is list.']\n"
     ]
    }
   ],
   "source": [
    "# .pop() also means removing element \n",
    "cities.pop(2)\n",
    "print(cities)\n",
    "\n",
    "#cities.pop(\"NY\")       only can take integer will show error"
   ]
  },
  {
   "cell_type": "code",
   "execution_count": null,
   "id": "ac448bc4",
   "metadata": {},
   "outputs": [],
   "source": []
  },
  {
   "cell_type": "code",
   "execution_count": null,
   "id": "59a901e5",
   "metadata": {},
   "outputs": [],
   "source": []
  },
  {
   "cell_type": "code",
   "execution_count": null,
   "id": "3686a852",
   "metadata": {},
   "outputs": [],
   "source": []
  },
  {
   "cell_type": "code",
   "execution_count": null,
   "id": "e46735ca",
   "metadata": {},
   "outputs": [],
   "source": []
  },
  {
   "cell_type": "code",
   "execution_count": null,
   "id": "af4fd3ca",
   "metadata": {},
   "outputs": [],
   "source": []
  },
  {
   "cell_type": "code",
   "execution_count": null,
   "id": "19ef7a09",
   "metadata": {},
   "outputs": [],
   "source": []
  },
  {
   "cell_type": "code",
   "execution_count": null,
   "id": "ad735772",
   "metadata": {},
   "outputs": [],
   "source": []
  }
 ],
 "metadata": {
  "kernelspec": {
   "display_name": "Python 3 (ipykernel)",
   "language": "python",
   "name": "python3"
  },
  "language_info": {
   "codemirror_mode": {
    "name": "ipython",
    "version": 3
   },
   "file_extension": ".py",
   "mimetype": "text/x-python",
   "name": "python",
   "nbconvert_exporter": "python",
   "pygments_lexer": "ipython3",
   "version": "3.9.13"
  }
 },
 "nbformat": 4,
 "nbformat_minor": 5
}
